{
  "cells": [
    {
      "cell_type": "markdown",
      "metadata": {
        "id": "view-in-github"
      },
      "source": [
        "<a href=\"https://colab.research.google.com/github/FatimaEzzedinee/ML-bachelor-course-labs-sp24/blob/main/00_intro_to_python_numpy_torch.ipynb\" target=\"_parent\"><img src=\"https://colab.research.google.com/assets/colab-badge.svg\" alt=\"Open In Colab\"/></a>"
      ]
    },
    {
      "cell_type": "markdown",
      "metadata": {
        "id": "kUod4PhQEUz1"
      },
      "source": [
        "# Machine Learning SP 2023/2024\n",
        "\n",
        "- Prof. Cesare Alippi\n",
        "- Alvise Dei Rossi ([`alvise.dei.rossi@usi.ch`](mailto:giorgia.adorni@usi.ch))<br>\n",
        "- Fatima Ezzeddine ([`fatima.ezzeddine@usi.ch`](mailto:fatima.ezzeddine@usi.ch))<br>\n",
        "- Alessandro Manenti ([`alessandro.manenti@usi.ch`](mailto:alessandro.manenti@usi.ch))\n",
        "\n",
        "---\n",
        "\n",
        "# Lab 00: Intro to Python, NumPy, Matplotlib, and Pytorch\n",
        "\n",
        "![alt text](https://www.python.org/static/community_logos/python-logo-master-v3-TM.png)\n",
        "\n",
        "Among the most important things that you should learn from the beginning about Python language is that:\n",
        "\n",
        "- Python is interpreted,\n",
        "- indentation matters.\n",
        "\n",
        "Python acts as a high-level interface to a low-level interpreter written in C, and is built for fast prototyping and readable code.\n",
        "The fact that the Python is interpreted, makes it less performant than compiled languages. However, programmers can build extensions in C and move high-load functions to external, compiled modules.\n",
        "\n",
        "In this course, we will use Python for all assignments, so make sure to familiarize with its syntax as soon as possible.\n",
        "Since Python is so simple and flexible, it shouldn't take you more than a week to get the basics down.\n",
        "\n",
        "Let's see some examples.\n"
      ]
    },
    {
      "cell_type": "code",
      "execution_count": null,
      "metadata": {
        "colab": {
          "base_uri": "https://localhost:8080/"
        },
        "id": "nUqVTs3aJICO",
        "outputId": "1a39097b-9aea-4e52-fe81-e6272f571709"
      },
      "outputs": [],
      "source": [
        "# This is an inline comment. Anything after # is ignored by the interpreter\n",
        "\n",
        "a = 1          # Variable assignment; this is an integer\n",
        "b = 'string'   # This is a string\n",
        "c = 3.2        # This is a float\n",
        "d = True       # This is a bool\n",
        "e = [1, 2, 3]  # This is a list of integers\n",
        "g = (1, 2, 3)  # Tuples are immutable lists (can't be modified)\n",
        "f = {'a': 1}   # Hashmaps in Python are called `dictionaries`\n",
        "h = None       # This is a special null object\n",
        "\n",
        "print('This is how you can print a string to stdout')"
      ]
    },
    {
      "cell_type": "markdown",
      "metadata": {
        "id": "leVVvmzGKzns"
      },
      "source": [
        "### More on data structures"
      ]
    },
    {
      "cell_type": "code",
      "execution_count": null,
      "metadata": {
        "colab": {
          "base_uri": "https://localhost:8080/"
        },
        "id": "WouHzi0fKsDO",
        "outputId": "521bca5e-44ba-4ef9-f4d2-63248857bde0"
      },
      "outputs": [],
      "source": [
        "i = [1, 2.0, ['a', 'b', 5], 6]  # lists can contain mixed-type elements (even other lists!)\n",
        "# note that objects in Python are zero-indexed, i.e. the first item is accessed at position zero.\n",
        "print(i[2])                     # This is how you access an object which can be indexed\n",
        "print(i[2:4])                   # Lists and tuples support slicing (start inclusive, end exclusive)\n",
        "print(f[\"a\"])                   # Dictionaries are accessed differentely from lists\n",
        "f[123] = 'onetwothree'          # Anything (hashable) can be a dictionary key; basically all but lists\n",
        "print(f)"
      ]
    },
    {
      "cell_type": "markdown",
      "metadata": {
        "id": "A7Tzcab-Llq0"
      },
      "source": [
        "### Dynamic typing"
      ]
    },
    {
      "cell_type": "code",
      "execution_count": null,
      "metadata": {
        "colab": {
          "base_uri": "https://localhost:8080/"
        },
        "id": "hjnJMyAuLidy",
        "outputId": "1fcc20de-0b39-4664-c9cc-bb5d4e57bf7e"
      },
      "outputs": [],
      "source": [
        "a = 10.        # Now a contains a float...\n",
        "print(a, type(a))\n",
        "a = [1, 2, 3]  # ...and now a list of integers.\n",
        "print(a, type(a))\n",
        "a = (1, 2, 3)  # Variables are just pointers to objects in memory\n",
        "print(a, type(a))"
      ]
    },
    {
      "cell_type": "markdown",
      "metadata": {
        "id": "vyxpDVMpVVrq"
      },
      "source": [
        "### Exercise 1: Python data types"
      ]
    },
    {
      "cell_type": "code",
      "execution_count": null,
      "metadata": {
        "id": "qIy45zWPVRxl"
      },
      "outputs": [],
      "source": [
        "a = ... # define an integer\n",
        "b = ... # define a float\n",
        "print(...) # sum them up\n",
        "c = [...] # include them into a list\n",
        "d = ... # create a dictionary with the integer as key and the list as a value\n",
        "print(...) # access the value of the dictionary you've just defined\n",
        "\n",
        "## what happens if you sum up two strings?\n",
        "print(\"...\" + \"...\")"
      ]
    },
    {
      "cell_type": "markdown",
      "metadata": {
        "id": "hezzs7gfWG3B"
      },
      "source": [
        "#### Solution exercise 1"
      ]
    },
    {
      "cell_type": "code",
      "execution_count": null,
      "metadata": {
        "colab": {
          "base_uri": "https://localhost:8080/"
        },
        "id": "12D_qN6KWFsV",
        "outputId": "252c577c-cc14-4d3a-9dba-0e69c905ba6e"
      },
      "outputs": [],
      "source": [
        "a = 1 # define an integer\n",
        "b = 1. # define a float\n",
        "print(a+b) # sum them up\n",
        "c = [a,b] # include them into a list\n",
        "d = {a:c} # create a dictionary with the integer as key and the list as a value\n",
        "print(d[a]) # access the value of the dictionary you've just defined\n",
        "\n",
        "## what happens if you sum up two strings?\n",
        "print(\"Hello\" + \" there\")"
      ]
    },
    {
      "cell_type": "markdown",
      "metadata": {
        "id": "Mjku9FI9LxDn"
      },
      "source": [
        "### Control statements"
      ]
    },
    {
      "cell_type": "code",
      "execution_count": null,
      "metadata": {
        "colab": {
          "base_uri": "https://localhost:8080/"
        },
        "id": "J6LKhjEJLwaR",
        "outputId": "db6583f5-e7a6-4386-90c9-c9dde8cd640f"
      },
      "outputs": [],
      "source": [
        "## You need for and while loops in order to repeat the same command or access\n",
        "## all the elements into an iterable (e.g. a list, a tuple, a set)\n",
        "\n",
        "# For loop behaves as a foreach\n",
        "print(\"\\n **** FOR LOOP **** \")\n",
        "for i in [1, 4, 5]:\n",
        "    # After a ':', code must be indented\n",
        "    print(i)\n",
        "print(\"Out of the loop!\") # This statement is not indented as 'print(i)'\n",
        "\n",
        "# While loop\n",
        "print(\"\\n **** WHILE LOOP **** \")\n",
        "a = 10\n",
        "while a > 0:  # Other operators: >=, <=, <, >, ==, !=\n",
        "    a = a - 1\n",
        "    print(a)\n",
        "\n",
        "## You need conditional statements in order to make your code happen based on conditions\n",
        "print(\"\\n **** CONDITIONALS **** \")\n",
        "\n",
        "# If, elif, else\n",
        "if a == 0: # if this condition is satisfied go in the indentation and don't consider the other conditions\n",
        "    print('Zero')\n",
        "elif a < 0: # otherwise move here and check the new condition\n",
        "    print('Negative')\n",
        "else: # if the two above are not satisfied go into this one\n",
        "    print('Positive')\n",
        "\n",
        "if not a == 0:  # 'not' is the keyword for negation\n",
        "    print('a is not 0')\n",
        "\n",
        "# Inline if - else\n",
        "a = 5\n",
        "print('spam' if a < 0 else 'ham')"
      ]
    },
    {
      "cell_type": "markdown",
      "metadata": {
        "id": "evs3T4n0Xg_Z"
      },
      "source": [
        "### Exercise 2: control statements"
      ]
    },
    {
      "cell_type": "code",
      "execution_count": null,
      "metadata": {
        "id": "0B8g89uLXgn2"
      },
      "outputs": [],
      "source": [
        "heights = [1.81, 1.91, 1.65]\n",
        "\n",
        "# iterate over the heights list provided, printing out its elements only if they're above 1.70"
      ]
    },
    {
      "cell_type": "markdown",
      "metadata": {
        "id": "GgXU0HLAX-FO"
      },
      "source": [
        "#### Solution Exercise 2"
      ]
    },
    {
      "cell_type": "code",
      "execution_count": null,
      "metadata": {
        "colab": {
          "base_uri": "https://localhost:8080/"
        },
        "id": "BidI3AWzX8_A",
        "outputId": "6fc9dd65-f5c1-4214-9b56-cf32a40a37dd"
      },
      "outputs": [],
      "source": [
        "heights = [1.81, 1.91, 1.65]\n",
        "\n",
        "for height in heights:\n",
        "    if height > 1.7:\n",
        "        print(height)"
      ]
    },
    {
      "cell_type": "markdown",
      "metadata": {
        "id": "axKu1SmiMH_N"
      },
      "source": [
        "### Functions"
      ]
    },
    {
      "cell_type": "code",
      "execution_count": null,
      "metadata": {
        "colab": {
          "base_uri": "https://localhost:8080/"
        },
        "id": "UgZmX7KnMLNw",
        "outputId": "c2553419-063c-42d6-a62e-edbd9fa4c1e8"
      },
      "outputs": [],
      "source": [
        "# Functions are defined with the keyword `def`\n",
        "# They are used to encapsulate a piece of code that can be reused\n",
        "def add_strings(a,b):\n",
        "    c = a+b\n",
        "    print(c)\n",
        "    return c\n",
        "\n",
        "add_strings('foo','bar')\n",
        "\n",
        "# This is a function with optional parameters\n",
        "def add_strings_with_space(a,b, optional=\" \"):\n",
        "    c = a+optional+b\n",
        "    print(c)\n",
        "    return c\n",
        "\n",
        "add_strings_with_space(\"foo\",\"bar\")\n",
        "add_strings_with_space(\"foo\",\"bar\", optional=\"   \")\n",
        "add_strings_with_space(\"foo\", \"spam\")\n",
        "_ = add_strings_with_space(optional=\"\\t\", a=\"foo\",b=\"spam\")\n",
        "\n",
        "#add_strings_with_space(optional=\"   \",\"foo\",\"spam\")     # Does not work!"
      ]
    },
    {
      "cell_type": "markdown",
      "metadata": {
        "id": "4VbKS3m0Zjjs"
      },
      "source": [
        "### Exercise 3: function definition"
      ]
    },
    {
      "cell_type": "code",
      "execution_count": null,
      "metadata": {
        "id": "z9xqP7U4ZlBL"
      },
      "outputs": [],
      "source": [
        "## Define a function that returns the absolute value of a number, but\n",
        "## if the input is zero, it also prints \"Zero!\"\n",
        "\n",
        "def ..."
      ]
    },
    {
      "cell_type": "markdown",
      "metadata": {
        "id": "Edf5b095Z-a5"
      },
      "source": [
        "#### Solution Exercise 3"
      ]
    },
    {
      "cell_type": "code",
      "execution_count": null,
      "metadata": {
        "id": "EYYbsQA_aBZF"
      },
      "outputs": [],
      "source": [
        "def abs_value_no_zero(n):\n",
        "    if n > 0:\n",
        "        return n\n",
        "    elif n < 0:\n",
        "        return -n\n",
        "    else:\n",
        "        print(\"Zero!\")\n",
        "        return n\n",
        "\n",
        "print(abs_value_no_zero(3))\n",
        "print(abs_value_no_zero(0))\n",
        "print(abs_value_no_zero(-3))"
      ]
    },
    {
      "cell_type": "markdown",
      "metadata": {
        "id": "UU9pJprHMM7W"
      },
      "source": [
        "### Syntactic sugar"
      ]
    },
    {
      "cell_type": "code",
      "execution_count": null,
      "metadata": {
        "id": "NawnmBzbMJS1"
      },
      "outputs": [],
      "source": [
        "# Syntact sugar used in programming to describe a feature that makes the code easier to write or read, \n",
        "# but doesn't add any new functionality. It's a way to make the language \"sweeter\" for the developer.\n",
        "\n",
        "h = None\n",
        "if h is None:  # Check identity with \"is\"\n",
        "    print('Variable is None')\n",
        "# Advanced note: only one object is None in Python. All variables that are None point to the same object in memory.\n",
        "\n",
        "if 1 in [1, 2, 3]:  # Check membership with \"in\"\n",
        "    print('Element found')\n",
        "\n",
        "if 1 not in [1, 2, 3]:\n",
        "    print('Element not found')\n",
        "\n",
        "e = [1, 2, 3]\n",
        "e.append(4)  # Append to the end of the list\n",
        "print(e)\n",
        "e = [1, 2, 3] + [4, 5, 6]  # Concatenate two lists\n",
        "print(e)\n",
        "e2 = [i for i in (1, 2, 3, 4, 5, 6)] # List comprehension\n",
        "print(e2 == e)\n",
        "print(e2 is e) # identity is not the same of equality (pointers point at different parts of memory)\n",
        "a,b = (2,3) # in Python you can define two variables at the same time!\n",
        "print(a)\n",
        "print(b)"
      ]
    },
    {
      "cell_type": "markdown",
      "metadata": {
        "id": "MjMui1aRc5Du"
      },
      "source": [
        "Remark: There are several more pythonic commands, we'll give you some refs at the end of the lab."
      ]
    },
    {
      "cell_type": "markdown",
      "metadata": {
        "id": "4Bwb_OORNJf1"
      },
      "source": [
        "### Built-in functions\n",
        "Python has a lot of native methods to do all sorts of stuff."
      ]
    },
    {
      "cell_type": "code",
      "execution_count": null,
      "metadata": {
        "id": "CC6Gqw_CNLzG"
      },
      "outputs": [],
      "source": [
        "a = list()             # List constructor\n",
        "for i in range(10):    # Count from 0 to 9\n",
        "    a.append(5-i)\n",
        "print(a)\n",
        "b = sorted(a)\n",
        "print(b)               # Return a sorted list\n",
        "max_a = max(a)\n",
        "print(max_a)           # Find the max\n",
        "min_a = min(a)         # Find the min\n",
        "print(min_a)\n",
        "\n",
        "squared_dict = dict()\n",
        "for j in range(2,10,2):\n",
        "    squared_dict[j] = j**2\n",
        "print(squared_dict)\n",
        "\n",
        "f = open('test_file.txt', 'w')  # Open a file\n",
        "f.write(\"I don't know what to say...\")\n",
        "f.close()"
      ]
    },
    {
      "cell_type": "markdown",
      "metadata": {
        "id": "NwlKFpSjebNK"
      },
      "source": [
        "### Exercise 4: use the input built-in function"
      ]
    },
    {
      "cell_type": "code",
      "execution_count": null,
      "metadata": {
        "id": "EJl5tzVHd7vt"
      },
      "outputs": [],
      "source": [
        "## Check online how the input function is used. https://www.google.com/search?q=how+to+give+an+input+in+python\n",
        "\n",
        "## Ask the user for its name and print it\n",
        "name = ...\n",
        "print(...)"
      ]
    },
    {
      "cell_type": "markdown",
      "metadata": {
        "id": "9ItvtPecepth"
      },
      "source": [
        "#### Solution Exercise 4"
      ]
    },
    {
      "cell_type": "code",
      "execution_count": null,
      "metadata": {
        "id": "d_eRp1rLes5s"
      },
      "outputs": [],
      "source": [
        "name = input(\"WHAT'S YOUR NAME: \")\n",
        "print(name)"
      ]
    },
    {
      "cell_type": "markdown",
      "metadata": {
        "id": "C80a9yVyPXOd"
      },
      "source": [
        "### Importing external libraries\n",
        "The true power of Python lies in the vast amount of libraries that are available to developers."
      ]
    },
    {
      "cell_type": "code",
      "execution_count": null,
      "metadata": {
        "id": "c15oCuXTPmkd"
      },
      "outputs": [],
      "source": [
        "import math  # Import the library (or \"module\") called \"math\"\n",
        "print(math.cos(0))\n",
        "\n",
        "from math import cos  # Import a single function from a module\n",
        "print(cos(0))\n",
        "\n",
        "import math as m  # Import a module and rename it\n",
        "m.cos(0)"
      ]
    },
    {
      "cell_type": "markdown",
      "metadata": {
        "id": "dwdDJAIsfnLX"
      },
      "source": [
        "### Exercise 5: Import numpy and matplotlib"
      ]
    },
    {
      "cell_type": "code",
      "execution_count": null,
      "metadata": {
        "id": "ace8EmvMfsrP"
      },
      "outputs": [],
      "source": [
        "# Import the library numpy and rename it np\n",
        "# Import the module pyplot from matplotlib and rename it plt\n",
        "\n",
        "..."
      ]
    },
    {
      "cell_type": "markdown",
      "metadata": {
        "id": "vofezW-Lft6V"
      },
      "source": [
        "#### Solution Exercise 5"
      ]
    },
    {
      "cell_type": "code",
      "execution_count": null,
      "metadata": {
        "id": "rebyvGXIfmxl"
      },
      "outputs": [],
      "source": [
        "import numpy as np\n",
        "from matplotlib import pyplot as plt"
      ]
    },
    {
      "cell_type": "markdown",
      "metadata": {
        "id": "rQjgtDHESVru"
      },
      "source": [
        "---\n",
        "\n",
        "# Intro to NumPy\n",
        "The main library that we are going to use in the course is called Numpy, which is one of the main Python library for scientific computing and array manipulation. This notebook contains a primer on how to use some basic functions of Numpy."
      ]
    },
    {
      "cell_type": "markdown",
      "metadata": {
        "id": "5DWwQO0HRWb3"
      },
      "source": [
        "## NumPy arrays\n",
        "\n",
        "The building block of numpy is the `ndarray`,  short for \"n-dimensional array\". Arrays in Numpy are objects with three main properties:\n",
        "1. the actual data\n",
        "2. shape (data dimensions)\n",
        "3. data type\n",
        "\n",
        "To create an array, we use the `np.array` constructor."
      ]
    },
    {
      "cell_type": "code",
      "execution_count": null,
      "metadata": {
        "colab": {
          "base_uri": "https://localhost:8080/"
        },
        "id": "ZJbIb7H6RWb4",
        "outputId": "314d53f4-627d-4f2b-a760-e416d92f52e6"
      },
      "outputs": [],
      "source": [
        "a = np.array([1, 2., 3])\n",
        "\n",
        "print('Data:  ', a)\n",
        "print('Shape: ', a.shape)\n",
        "print('Data type:  ', a.dtype)\n",
        "print('Type of a:', type(a)) # not that the type of the object isn't the dtype"
      ]
    },
    {
      "cell_type": "markdown",
      "metadata": {
        "id": "k_44YZSGV_Tn"
      },
      "source": [
        "We can also create arrays with a higher number of dimensions. An array with shape `(n, m)` is represented in classical notation with $\\mathbb{R}^{n \\times m}$."
      ]
    },
    {
      "cell_type": "code",
      "execution_count": null,
      "metadata": {
        "colab": {
          "base_uri": "https://localhost:8080/"
        },
        "id": "dt-5JWQmRWb8",
        "outputId": "890f28d7-acb6-43df-c60b-327632f24755"
      },
      "outputs": [],
      "source": [
        "b = np.array([[1., 2., 3.],\n",
        "              [4., 5., 6.]])  # a list of lists\n",
        "\n",
        "print('Data:  ')\n",
        "print(b)\n",
        "print('Shape: ', b.shape)\n",
        "print('Type:  ', b.dtype)"
      ]
    },
    {
      "cell_type": "code",
      "execution_count": null,
      "metadata": {
        "colab": {
          "base_uri": "https://localhost:8080/"
        },
        "id": "HBebfUWD15V_",
        "outputId": "3ad2fa51-9090-4085-b34e-f01a5bca4d95"
      },
      "outputs": [],
      "source": [
        "t = 2 * np.ones(shape=3) # there are some special functions in numpy to get ndarrays filled with certain values\n",
        "print('Shape: ', t.shape)\n",
        "print('Data:  ')\n",
        "print(t)\n",
        "\n",
        "print()\n",
        "\n",
        "z = np.zeros(shape=(3, 2, 4))\n",
        "print('Shape: ', z.shape)\n",
        "print('Data:  ')\n",
        "print(z)"
      ]
    },
    {
      "cell_type": "markdown",
      "metadata": {
        "id": "WS6ujOsiuJ2m"
      },
      "source": [
        "Arrays can be accessed like lists, but support an advanced slicing operator that allows for complex behaviours."
      ]
    },
    {
      "cell_type": "code",
      "execution_count": null,
      "metadata": {
        "colab": {
          "base_uri": "https://localhost:8080/"
        },
        "id": "Jl9qoDXZuWGR",
        "outputId": "6163b0a0-9c53-47d5-e8ba-ae0fd358e00e"
      },
      "outputs": [],
      "source": [
        "a = np.array([[1,2,3],\n",
        "              [4,5,6],\n",
        "              [7,8,9]])\n",
        "\n",
        "# Access element in the first row and third column (remember 0-indexing)\n",
        "print(\"a[0, 2]:\", a[0, 2])"
      ]
    },
    {
      "cell_type": "code",
      "execution_count": null,
      "metadata": {
        "colab": {
          "base_uri": "https://localhost:8080/"
        },
        "id": "J-qQCxBju5YX",
        "outputId": "dbd45b9b-3cc1-4c5f-cd82-663b706917d4"
      },
      "outputs": [],
      "source": [
        "print(\"Initial ndarray\")\n",
        "print(a)\n",
        "# Access first row\n",
        "print(\"\\nFirst row\")\n",
        "print(...)\n",
        "# Access the first column\n",
        "print(\"\\nFirst column\")\n",
        "print(...)\n",
        "## More complex indexing can be used in order to access specific parts of the matrix\n",
        "print(\"\\na[:, 0:-1]\")\n",
        "print(a[:, 0:-1]) # note that we're excluding the last column with slicing\n",
        "print(\"shape:\", a[:, 0:-1].shape)\n",
        "# Access 2 x 2 submatrix\n",
        "print(\"\\n a[0:2, 0:2]\")\n",
        "print(a[0:2, 0:2])\n",
        "print(a[:2, :2]) # equivalent"
      ]
    },
    {
      "cell_type": "code",
      "execution_count": null,
      "metadata": {
        "colab": {
          "base_uri": "https://localhost:8080/"
        },
        "id": "6mwAkw8g9PV6",
        "outputId": "add08c43-4de9-4b15-eff6-a63e94abbc9e"
      },
      "outputs": [],
      "source": [
        "print(\"Initial array\")\n",
        "print(a)\n",
        "# careful if you change values using slicing, it will change also the original array\n",
        "b = a\n",
        "b[0,0] = 3\n",
        "print(\"\\nArray a after the change in b\")\n",
        "print(a)\n",
        "# but you can avoid it making copies\n",
        "c = a.copy()\n",
        "c[-1,-1] = 0\n",
        "print(\"\\nArray a after the change in c\")\n",
        "print(a)\n",
        "print(\"\\nBut array c has changed: \")\n",
        "print(c)"
      ]
    },
    {
      "cell_type": "markdown",
      "metadata": {
        "id": "pHnDwwb2kj51"
      },
      "source": [
        "### Exercise 6: Array manipulation"
      ]
    },
    {
      "cell_type": "markdown",
      "metadata": {
        "id": "lX3Q97FblfLs"
      },
      "source": [
        "**Premise:** Note that element-wise operation with numpy arrays (as long as dimensions match) can be done but you can't with lists.\n",
        "\n",
        "Given the list of lists A =\n",
        "\n",
        "| 1 | 1 | 2 | 2 |\n",
        "|---|---|---|---|\n",
        "| 2 | 2 | 3 | 3 |\n",
        "| 4 | 4 | 5 | 5 |\n",
        "| 6 | 6 | 7 | 7 |\n",
        "\n",
        "make it an array and take the sub-matrix\n",
        "\n",
        "| 1 | 1 |\n",
        "|---|---|\n",
        "| 2 | 2 |\n",
        "\n",
        "and sum it with the submatrix:\n",
        "\n",
        "| 5 | 5 |\n",
        "|---|---|\n",
        "| 7 | 7 |"
      ]
    },
    {
      "cell_type": "code",
      "execution_count": null,
      "metadata": {
        "id": "b1Kk2UpDkjpb"
      },
      "outputs": [],
      "source": [
        "A = [[1,1,2,2],\n",
        "     [2,2,3,3],\n",
        "     [4,4,5,5],\n",
        "     [6,6,7,7]]"
      ]
    },
    {
      "cell_type": "markdown",
      "metadata": {
        "id": "2f_MOorSmr20"
      },
      "source": [
        "#### Solution Exercise 6"
      ]
    },
    {
      "cell_type": "code",
      "execution_count": null,
      "metadata": {
        "colab": {
          "base_uri": "https://localhost:8080/"
        },
        "id": "jeywA1InmzWd",
        "outputId": "c1ef3f24-5a84-430b-b10d-46dcb61d88fe"
      },
      "outputs": [],
      "source": [
        "A = [[1,1,2,2],\n",
        "     [2,2,3,3],\n",
        "     [4,4,5,5],\n",
        "     [6,6,7,7]]\n",
        "\n",
        "A = np.array(A)\n",
        "sub1 = A[:2,:2]\n",
        "sub2 = A[-2:,-2:]\n",
        "print(sub1)\n",
        "print(\"    +    \")\n",
        "print(sub2)\n",
        "print(\"________\")\n",
        "print(sub1+sub2)"
      ]
    },
    {
      "cell_type": "markdown",
      "metadata": {
        "id": "fUktEKGRjCc5"
      },
      "source": [
        "### More on numpy arrays\n",
        "\n",
        "Data, shape, and type of an array can be manipulated (obviously, we are mostly interested in manipulating the data, but the other two can be very important)."
      ]
    },
    {
      "cell_type": "code",
      "execution_count": null,
      "metadata": {
        "colab": {
          "base_uri": "https://localhost:8080/"
        },
        "id": "EJ8nRK_JjBht",
        "outputId": "1648eabc-c52a-44cc-c7b0-98030b0bb1a1"
      },
      "outputs": [],
      "source": [
        "a = np.array([i for i in range(6)])\n",
        "print('Original:    ', a)\n",
        "\n",
        "# Edit data\n",
        "a[2] = 0\n",
        "print('Change data: ', a)\n",
        "\n",
        "# Edit shape\n",
        "print('Change shape to (3, 2):')\n",
        "print(a.reshape((3, 2)))\n",
        "print(a.reshape((3, -1))) # -1 means \"infer this dimension\"\n",
        "\n",
        "# Change type\n",
        "print('Change type: ')\n",
        "a = a.astype(np.float32)\n",
        "print(a.dtype)\n",
        "\n",
        "# Note here that reshapes didn't substitute in-place the array\n",
        "print(a)"
      ]
    },
    {
      "cell_type": "markdown",
      "metadata": {
        "id": "j3DaQi-apQn4"
      },
      "source": [
        "Conditions are checked element-wise in numpy-arrays. You can use functions in numpy that check the condition in all the array at the same time."
      ]
    },
    {
      "cell_type": "code",
      "execution_count": null,
      "metadata": {
        "colab": {
          "base_uri": "https://localhost:8080/"
        },
        "id": "espjKRAzpQPd",
        "outputId": "9d083d93-2a16-40b2-f62d-2dfc60936a47"
      },
      "outputs": [],
      "source": [
        "print(\"Array considered\", a)\n",
        "print(a > 3)\n",
        "print(a == 0)\n",
        "print(np.any(a))\n",
        "print(np.all(a))\n",
        "# more complex logical checks are possible in numpy:\n",
        "print(np.logical_or(a >= 3, a == 1))\n",
        "print(np.where(a <= 3, \"FIRST\", \"SECOND\"))"
      ]
    },
    {
      "cell_type": "markdown",
      "metadata": {
        "id": "HUUgiglSkLuv"
      },
      "source": [
        "You can also create arrays sampled from uniform, Gaussian, etc., distributions"
      ]
    },
    {
      "cell_type": "code",
      "execution_count": null,
      "metadata": {
        "colab": {
          "base_uri": "https://localhost:8080/",
          "height": 430
        },
        "id": "-ozGchfgkK_S",
        "outputId": "c0dca0a4-713a-46ee-87aa-3f245849624b"
      },
      "outputs": [],
      "source": [
        "np.random.seed(42)  # for reproducibility always set a random seed\n",
        "\n",
        "unif = np.random.uniform(low=-3, high=3, size=10000)\n",
        "normal = np.random.normal(loc=0, scale=1, size=10000) # loc refers to the mean, scale to the standard deviation\n",
        "\n",
        "# you can use matplotlib hist function to visualize the distributions\n",
        "plt.hist(unif, alpha=0.5, label=\"uniform\", bins=30, density=True)\n",
        "plt.hist(normal, alpha=0.5, label=\"gaussian\", bins=30, density=True)\n",
        "plt.grid(alpha=0.5) # adds a background grid to the plot\n",
        "plt.legend() # adds a legend (based on the labels) on the plot\n",
        "plt.show() # shows the plot prepared"
      ]
    },
    {
      "cell_type": "markdown",
      "metadata": {
        "id": "eL_Dn1Geloao"
      },
      "source": [
        "### Exercise 7: Draw uniformly from [0,1] U [2,3] and plot a histagram of the result\n",
        "\n"
      ]
    },
    {
      "cell_type": "code",
      "execution_count": null,
      "metadata": {
        "id": "bqZgbauVnO6L"
      },
      "outputs": [],
      "source": [
        "# Note: there are several ways to do this\n",
        "\n",
        "...\n",
        "\n",
        "plt.hist(...)\n",
        "plt.grid()\n",
        "plt.show()"
      ]
    },
    {
      "cell_type": "markdown",
      "metadata": {
        "id": "JT-fiIRQnN5O"
      },
      "source": [
        "#### Solution Exercise 7"
      ]
    },
    {
      "cell_type": "code",
      "execution_count": null,
      "metadata": {
        "colab": {
          "base_uri": "https://localhost:8080/",
          "height": 430
        },
        "id": "3YxYlGDYmxna",
        "outputId": "88f7da1d-bb11-46a4-ca49-362b10452441"
      },
      "outputs": [],
      "source": [
        "a = np.random.uniform(low=0, high=1, size=100000)\n",
        "b = np.random.uniform(low=2, high=3, size=100000)\n",
        "plt.hist(np.concatenate([a,b]),bins=30,density=True)\n",
        "# careful that if you change the number of bins\n",
        "# it might seem like you have data outside of the desired ranges\n",
        "# furthermore the bins affect the shape of the plotted distribution\n",
        "plt.grid()\n",
        "plt.show()"
      ]
    },
    {
      "cell_type": "markdown",
      "metadata": {
        "id": "bmlB1JnFa-H_"
      },
      "source": [
        "## Numpy operations\n",
        "Numpy implements hundreds of useful mathematical operations on and between arrays."
      ]
    },
    {
      "cell_type": "markdown",
      "metadata": {
        "id": "0gGA7HmVqJVL"
      },
      "source": [
        "### Operations on arrays\n",
        "\n",
        "Unary operations on arrays are applied element-wise, i.e., evaluated for each number saved in the array. Shape is usually not affected by unary operations, but type might."
      ]
    },
    {
      "cell_type": "code",
      "execution_count": null,
      "metadata": {
        "id": "T6zhXrkecCYj"
      },
      "outputs": [],
      "source": [
        "# Create a sequence of 1000 floats equally spaced between 0 and 2pi\n",
        "x = np.linspace(0, 2 * np.pi, 1000)"
      ]
    },
    {
      "cell_type": "markdown",
      "metadata": {
        "id": "dBDI8XKC3smv"
      },
      "source": [
        "__Trick__: in a code cell hold \"ctrl\" and point to a function"
      ]
    },
    {
      "cell_type": "markdown",
      "metadata": {
        "id": "m8YXAWdk0Yu7"
      },
      "source": [
        "This how we compute the sine function at all points defined in `x`."
      ]
    },
    {
      "cell_type": "code",
      "execution_count": null,
      "metadata": {
        "colab": {
          "base_uri": "https://localhost:8080/",
          "height": 430
        },
        "id": "F-D9ZK6p0X7t",
        "outputId": "49c40de4-9e8f-479c-b03a-a5118f55ce69"
      },
      "outputs": [],
      "source": [
        "y = np.sin(x)\n",
        "plt.plot(x, y);  # Plot a line graph built using (x[i], y[i]) pairs"
      ]
    },
    {
      "cell_type": "markdown",
      "metadata": {
        "id": "IStSMhG70eR8"
      },
      "source": [
        "And similarly, $e^x$."
      ]
    },
    {
      "cell_type": "code",
      "execution_count": null,
      "metadata": {
        "colab": {
          "base_uri": "https://localhost:8080/",
          "height": 430
        },
        "id": "eleIv243c4Ja",
        "outputId": "0ea5338c-d986-4b88-b124-5a698d4d71e4"
      },
      "outputs": [],
      "source": [
        "plt.plot(x, np.exp(x));"
      ]
    },
    {
      "cell_type": "markdown",
      "metadata": {
        "id": "ymf97J5h0kui"
      },
      "source": [
        "Numpy offers a very large collection of functions."
      ]
    },
    {
      "cell_type": "code",
      "execution_count": null,
      "metadata": {
        "id": "CmJlDJ25dGW6"
      },
      "outputs": [],
      "source": [
        "y = np.square(x)   # Square (equivalent to x**2)\n",
        "y = np.sqrt(x)     # Square root (equivalent to x**0.5)\n",
        "y = np.floor(x)    # Flooring\n",
        "y = np.power(x, 3) # Exponentiation (equivalent to x**3)\n",
        "y = np.tan(x)      # Tangent\n",
        "y = np.arctan(x)   # Arctangent\n",
        "y = np.tanh(x)     # Hyperbolic tangent"
      ]
    },
    {
      "cell_type": "markdown",
      "metadata": {
        "id": "Tta226gOhSrd"
      },
      "source": [
        "Arrays also support advanced manipulation via a process called **broadcasting**.  \n",
        "The following is a valid expression in Numpy, and gets evaluated at every point in the array x."
      ]
    },
    {
      "cell_type": "code",
      "execution_count": null,
      "metadata": {
        "colab": {
          "base_uri": "https://localhost:8080/",
          "height": 430
        },
        "id": "NQ7zO2D1ik-o",
        "outputId": "12e9c547-fcc9-40bb-ba81-3a9b24eeef3f"
      },
      "outputs": [],
      "source": [
        "y = x # bisector line\n",
        "plt.plot(x,y)\n",
        "y = x + 2  # 2 gets summed to every point in x\n",
        "plt.plot(x, y); # note that you can add lines onto the same plot"
      ]
    },
    {
      "cell_type": "code",
      "execution_count": null,
      "metadata": {
        "colab": {
          "base_uri": "https://localhost:8080/",
          "height": 472
        },
        "id": "PlFw56uh6b_5",
        "outputId": "ed3a437c-3954-44dd-d2e1-17e789a51bd4"
      },
      "outputs": [],
      "source": [
        "# This can be extended to arbitrarily complex functions!\n",
        "y1 = np.sin(x ** 2 + 3) + 3 * np.cos(x)\n",
        "\n",
        "# we can also draw multiple plots\n",
        "y2 = np.sin(x) * np.cos(10*x)\n",
        "\n",
        "# Let's see some matplotlib functions to make the plot more fancy\n",
        "plt.plot(x, y1, label=\"fn_1\");\n",
        "plt.plot(x, y2, label=\"fn_2\");\n",
        "plt.legend()\n",
        "\n",
        "plt.title(\"Title of the plot\")\n",
        "plt.xlabel(\"my x\")\n",
        "plt.ylabel(\"my y\")\n",
        "plt.grid()"
      ]
    },
    {
      "cell_type": "code",
      "execution_count": null,
      "metadata": {
        "colab": {
          "base_uri": "https://localhost:8080/"
        },
        "id": "AwRdbCY57GLB",
        "outputId": "8e27c535-ac1c-4be7-ff55-0e85863e8578"
      },
      "outputs": [],
      "source": [
        "# Advanced note: broadcasting is actually a more general concept in numpy\n",
        "v1 = np.arange(12).reshape(3,4)\n",
        "print(v1)\n",
        "v2 = np.arange(4).reshape(1,4)\n",
        "print(\"+\")\n",
        "print(v2)\n",
        "print(\"-----------------\")\n",
        "print(v1+v2)\n",
        "print(\"\\n\",v1.shape, v2.shape)"
      ]
    },
    {
      "cell_type": "markdown",
      "metadata": {
        "id": "NXuJoMUJsqQ9"
      },
      "source": [
        "### Exercise 8: plotting with numpy and matplotlib"
      ]
    },
    {
      "cell_type": "markdown",
      "metadata": {
        "id": "2QGBhlB6va9E"
      },
      "source": [
        "Try to replicate the following picture using numpy and matplotlib functions! ([Circle in polar coordinates?](https://socratic.org/questions/573f172a7c0149710b4739f7))\n",
        "<center><img src=\"https://drive.switch.ch/index.php/apps/files_sharing/ajax/publicpreview.php?x=2744&y=1232&a=true&file=image.png&t=WmTXVZYFltKsGY2&scalingup=0\" width=500></center>"
      ]
    },
    {
      "cell_type": "code",
      "execution_count": null,
      "metadata": {
        "id": "OxcDU81RwWdV"
      },
      "outputs": [],
      "source": [
        "# plot the stairs\n",
        "plt.plot(x, ... , label=...)\n",
        "\n",
        "# now for the ball\n",
        "theta = ... # define a full angle (from 0 to 2 pi)\n",
        "radius = ... # define an appropriate radius\n",
        "# polar coords\n",
        "a = radius * np.cos(theta)\n",
        "b = radius * np.sin(theta)\n",
        "# adjust the position and give the right label\n",
        "plt.plot(... , ... , label=...)\n",
        "plt.legend()\n",
        "# show the grid on the plot\n",
        "...\n",
        "# give the plot the proper title and proper labels on the axis"
      ]
    },
    {
      "cell_type": "markdown",
      "metadata": {
        "id": "c_mpye81vjzZ"
      },
      "source": [
        "#### Solution Exercise 8"
      ]
    },
    {
      "cell_type": "code",
      "execution_count": null,
      "metadata": {
        "colab": {
          "base_uri": "https://localhost:8080/",
          "height": 472
        },
        "id": "cl3kuLa-sp-_",
        "outputId": "ecac84bb-9438-4b2f-fb92-7ff866aeaa20"
      },
      "outputs": [],
      "source": [
        "plt.plot(x, np.floor(x),label=\"stairs\")\n",
        "theta = x\n",
        "radius = .5\n",
        "a = radius * np.cos(theta)\n",
        "b = radius * np.sin(theta)\n",
        "plt.plot(a+3.5, b+3.5, label=\"ball\")\n",
        "plt.legend()\n",
        "plt.grid(\"on\")\n",
        "plt.title(\"Falling\")\n",
        "plt.xlabel(\"x\")\n",
        "plt.ylabel(\"y\")\n",
        "plt.show()"
      ]
    },
    {
      "cell_type": "markdown",
      "metadata": {
        "id": "-mpyU8xgvX3J"
      },
      "source": [
        "### Operations between arrays\n",
        "Operations can also be computed between two or more arrays.  \n",
        "There are three equivalent notations to compute the dot product between arrays in Numpy."
      ]
    },
    {
      "cell_type": "code",
      "execution_count": null,
      "metadata": {
        "colab": {
          "base_uri": "https://localhost:8080/"
        },
        "id": "pplAIsswvilH",
        "outputId": "ed5b36a1-8476-4558-9b3b-f0537fcc1f9b"
      },
      "outputs": [],
      "source": [
        "# 1D arrays\n",
        "x = np.arange(9) # note that the shape of these is (9,), NOT (9,1)\n",
        "y = np.arange(9)\n",
        "\n",
        "# Dot product\n",
        "xy = np.dot(x, y)\n",
        "print(xy)\n",
        "\n",
        "xy = x.dot(y)\n",
        "print(xy)\n",
        "\n",
        "print(x @ y)\n",
        "\n",
        "xy = 0\n",
        "for i in range(9):\n",
        "    xy += x[i] * y[i]\n",
        "print(xy)"
      ]
    },
    {
      "cell_type": "code",
      "execution_count": null,
      "metadata": {
        "colab": {
          "base_uri": "https://localhost:8080/"
        },
        "id": "JjZXZZUb11vb",
        "outputId": "87a40683-c27a-4d34-dad9-1d82a2604d07"
      },
      "outputs": [],
      "source": [
        "# Let's see how important it is to do operation vectorized\n",
        "# avoid for loops as much as possible\n",
        "\n",
        "from time import time\n",
        "\n",
        "# 1D arrays\n",
        "x = np.arange(9999)\n",
        "y = np.arange(9999)\n",
        "\n",
        "start = time()\n",
        "xy = np.dot(x, y)\n",
        "np_time = time() - start\n",
        "print(\"xy = {} - numpy dot time: {:6.3f} ms\".format(xy, np_time * 1000))\n",
        "\n",
        "start = time()\n",
        "xy = 0\n",
        "for i in range(9999):\n",
        "    xy += x[i] * y[i]\n",
        "for_time = time() - start\n",
        "print(\"xy = {} - for cycle time: {:6.3f} ms\".format(xy, for_time * 1000))\n",
        "\n",
        "print(f\"time ratio {for_time/np_time}\")"
      ]
    },
    {
      "cell_type": "markdown",
      "metadata": {
        "id": "-N8dV8MdwmTe"
      },
      "source": [
        "The same can be done for matrices."
      ]
    },
    {
      "cell_type": "code",
      "execution_count": null,
      "metadata": {
        "colab": {
          "base_uri": "https://localhost:8080/"
        },
        "id": "xIprDvRSv9_F",
        "outputId": "f207ede4-b7d8-4e7b-d566-47bfd5f542e2"
      },
      "outputs": [],
      "source": [
        "# 2D arrays (matrices)\n",
        "v = np.arange(9).reshape((3, 3))\n",
        "w = np.arange(9).reshape((3, 3))\n",
        "\n",
        "print(v)\n",
        "# Matrix multiplication between square matrices (row-column multiplication)\n",
        "vw = v.dot(w)\n",
        "print(vw)\n",
        "# The @ operator can be used as well\n",
        "print(v @ w)"
      ]
    },
    {
      "cell_type": "markdown",
      "metadata": {
        "id": "ACTpSvppxBNK"
      },
      "source": [
        "When multiplying non-square matrices, we have to be sure that their dimensions are aligned properly."
      ]
    },
    {
      "cell_type": "code",
      "execution_count": null,
      "metadata": {
        "id": "uEMGozwMw2I4"
      },
      "outputs": [],
      "source": [
        "# Define two non-square matrices\n",
        "v = np.arange(6).reshape((3, 2))\n",
        "w = np.arange(6).reshape((3, 2))"
      ]
    },
    {
      "cell_type": "code",
      "execution_count": null,
      "metadata": {
        "colab": {
          "base_uri": "https://localhost:8080/"
        },
        "id": "L0fM3hA0xSJq",
        "outputId": "15980454-5b76-46a7-cf04-37c2f4c521da"
      },
      "outputs": [],
      "source": [
        "# This will crash\n",
        "try:\n",
        "    vw = v.dot(w)\n",
        "except ValueError as e:\n",
        "    print('ValueError:', e)"
      ]
    },
    {
      "cell_type": "code",
      "execution_count": null,
      "metadata": {
        "colab": {
          "base_uri": "https://localhost:8080/"
        },
        "id": "GB4mCXkyxTtq",
        "outputId": "0f7f4bcb-39ba-43ba-9918-46aa4d03adcf"
      },
      "outputs": [],
      "source": [
        "# Transpose the second matrix with w.T to compute the correct product\n",
        "vw = v.dot(w.T)\n",
        "print(vw)"
      ]
    },
    {
      "cell_type": "markdown",
      "metadata": {
        "id": "5aP0ls_3_iz_"
      },
      "source": [
        "Note that the usual multiplication opertaror does not work as a dot product, but as an element-wise operator. The same holds for `+`, `-`, and `/`."
      ]
    },
    {
      "cell_type": "code",
      "execution_count": null,
      "metadata": {
        "colab": {
          "base_uri": "https://localhost:8080/"
        },
        "id": "hc2Nlly0_tNF",
        "outputId": "c37dd5f6-2b9c-43b3-b049-4cc54e9337e9"
      },
      "outputs": [],
      "source": [
        "# Element-wise multiplication\n",
        "v = np.arange(9)\n",
        "w = np.arange(9)\n",
        "print(v + w)\n",
        "print(v * w)"
      ]
    },
    {
      "cell_type": "markdown",
      "metadata": {
        "id": "G5W2P-M0gk-r"
      },
      "source": [
        "### Exercise 9: Matrix multiplication\n",
        "\n",
        "given matrices W $\\in \\mathbb{R}^{3x3}$, and vectors x $\\in \\mathbb{R}^{3x1}$, b $\\in \\mathbb{R}^{3x1}$ calculate h = Wx + b\n"
      ]
    },
    {
      "cell_type": "code",
      "execution_count": null,
      "metadata": {
        "id": "24rocIZliD7h"
      },
      "outputs": [],
      "source": [
        "W = np.array([[0, -3, 3],\n",
        "             [0, 1, 4],\n",
        "             [-2, 3, 6]])\n",
        "x = np.array([[4],[5],[-2]])\n",
        "b = np.array([[0],[0],[3]])\n",
        "\n",
        "..."
      ]
    },
    {
      "cell_type": "markdown",
      "metadata": {
        "id": "Ja3LdP5XiHY3"
      },
      "source": [
        "#### Solution Exercise 9"
      ]
    },
    {
      "cell_type": "code",
      "execution_count": null,
      "metadata": {
        "colab": {
          "base_uri": "https://localhost:8080/"
        },
        "id": "AZKOVvomgkCo",
        "outputId": "15d074a7-bb88-4f17-d594-eb7f6737729a"
      },
      "outputs": [],
      "source": [
        "W = np.array([[0, -3, 3],\n",
        "             [0, 1, 4],\n",
        "             [-2, 3, 6]])\n",
        "x = np.array([[4],[5],[-2]])\n",
        "b = np.array([[0],[0],[3]])\n",
        "print(A.shape, X.shape, b.shape)\n",
        "\n",
        "h = np.dot(W, x) + b\n",
        "h"
      ]
    },
    {
      "cell_type": "markdown",
      "metadata": {
        "id": "k-NBLf0G1-po"
      },
      "source": [
        "### Arrays can be stacked or concatenated together in several ways, along different **axes**."
      ]
    },
    {
      "cell_type": "code",
      "execution_count": null,
      "metadata": {
        "colab": {
          "base_uri": "https://localhost:8080/"
        },
        "id": "UUPx7kx_2KMf",
        "outputId": "86b97fe2-3f00-4dbb-aaa9-081d2a50125f"
      },
      "outputs": [],
      "source": [
        "import numpy as np\n",
        "\n",
        "a = np.arange(9)\n",
        "b = np.arange(9)\n",
        "\n",
        "# Concatenate together\n",
        "print('Concatenated')\n",
        "ab = np.concatenate((a, b))\n",
        "print(ab)\n",
        "print(ab.shape)\n",
        "\n",
        "# Stack as a matrix\n",
        "print('Stacked rows')\n",
        "ab = np.vstack((a, b))  # Short for \"vertical stack\"\n",
        "print(ab)\n",
        "print(ab.shape)\n",
        "\n",
        "# Stack two column vectors\n",
        "print('Stacked columns')\n",
        "a = a.reshape((9, 1))   # Column vector\n",
        "b = b.reshape((9, 1))   # Column vector\n",
        "ab = np.hstack((a, b))  # Short for \"horizontal stack\"\n",
        "print(ab)\n",
        "print(ab.shape)"
      ]
    },
    {
      "cell_type": "code",
      "execution_count": null,
      "metadata": {
        "colab": {
          "base_uri": "https://localhost:8080/"
        },
        "id": "JuJPGk0X_IJv",
        "outputId": "30b5a732-236f-4b74-84d5-a8e77f21a4de"
      },
      "outputs": [],
      "source": [
        "# I'll use this row to show some of the concepts below\n",
        "\n",
        "a = np.array([2,0,4])\n",
        "b = np.array([a,a*3,a-5])\n",
        "print(\"a\")\n",
        "print(a)\n",
        "print(\"b\")\n",
        "print(b)\n",
        "print(\"TESTS BELOW\")"
      ]
    },
    {
      "cell_type": "markdown",
      "metadata": {
        "collapsed": false,
        "id": "KWypwG2VR8_3"
      },
      "source": [
        "## Some (other) NumPy concepts you need to BE AWARE OF\n",
        "\n",
        "- You can perform many operations on arrays, such as\n",
        "\n",
        "    - [statistical operations](https://numpy.org/doc/stable/reference/routines.statistics.html) (such as taking the mean, standard deviation, etc., of all or some elements)\n",
        "     `np.max(np.array([2,0,4])) = 4`\n",
        "    - [linear algebra operations](https://numpy.org/doc/stable/reference/routines.linalg.html) (transpose, dot product, matrix multiplications, norm, eigenvectors, eigenvalues, solve linear systems, etc.)\n",
        "    - [other mathematical operations](https://numpy.org/doc/stable/reference/routines.math.html)  (e.g. trigonometric functions, such as sine, cosine, etc.)\n",
        "    - [logical](https://numpy.org/doc/stable/reference/routines.logic.html) and [binary](https://numpy.org/doc/stable/reference/routines.bitwise.html) operations\n",
        "    - [Sorting, searching, and counting](https://numpy.org/doc/stable/reference/routines.sort.html)\n",
        "    - [Fourier transforms](https://numpy.org/doc/stable/reference/routines.fft.html)\n",
        "\n",
        "\n",
        "- [Vectorized operations](http://www2.imm.dtu.dk/pubdb/edoc/imm3274.pdf)\n",
        "    - The idea that certain operations that you usually perform only with numbers can also be performed/implemented with arrays\n",
        "    - You often need to think in terms of vectors, matrices or multi-dimensional arrays in machine learning (you need this mindset)\n",
        "    - For instance, `(a + b)(a - b) = a^2 - b^2` , where `a` and `b` are real numbers, has the vectorized counterpart `(a + b)(a - b) = aa^T - bb^T`, where `a` and `b` are m-dimensional vectors and `T` is the transpose operation\n",
        "        - Example: `a = [1, 2]` and `b = [2, 2]`, then `(a + b)(a - b) = ([1, 2] + [2, 2])([1, 2] - [2, 2]) = [3, 4] • [-1, 0] = -3`, which is equal to `[1, 2]•[1, 2]^T - [2, 2]•[2, 2]^T = 5 - 8 = -3`, where `•` is the dot product symbol.\n",
        "\n",
        "- [Broadcasting](https://numpy.org/doc/stable/user/theory.broadcasting.html?highlight=broadcasting) (i.e. how arrays are treated when arrays of different dimensions/shapes are involved in an operation)\n",
        "    - Example: `a * b`, where `a = 2.0` and `b = np.array([1, 2])`, becomes `np.array([2.0, 4.0])`.\n",
        "        - This is just the simple case of scalar-vector multiplication, which is a very common linear algebra operation, but there are more advanced \"broadcasting\" situations\n",
        "\n",
        "- NumPy is [efficient](https://stackoverflow.com/q/8385602/3924118) because\n",
        "    - the Python functions actually often call some pre-compiled C code or other compiled code or libraries (e.g. [BLAS](http://www.netlib.org/blas/))\n",
        "    - the elements of the same array have the same type, so certain optimizations can be made (e.g. you don't need to check that the elements of that array have the same type in order to perform some operation)\n",
        "\n",
        "### Note 1\n",
        "\n",
        "> You don't need to memorise everything written above now, but, the more you use NumPy, the more you will come across all these concepts, so you should be aware of them. In general, it requires some time (weeks, months or even years) to become an expert in a library or programming language and, sometimes, you don't even need to be an expert, but just need to know how to use it and look up the documentation.\n",
        "\n",
        "### Note 2\n",
        "\n",
        "> When you are not sure how a method is implemented or how to do something, look up the documentation or google it ;)"
      ]
    },
    {
      "cell_type": "markdown",
      "metadata": {
        "collapsed": false,
        "id": "TMW4qGtrR8_4"
      },
      "source": [
        "\n",
        "## Why do we care about NumPy in machine learning?\n",
        "\n",
        "- Loosely speaking, machine learning is about extracting patterns from past data, which are in \"stored\" models, in order to e.g. predict something about future data (is this already clear to you?)\n",
        "\n",
        "    - Arrays can represent/contain the parameters of a model\n",
        "    - Arrays can represent datasets"
      ]
    },
    {
      "cell_type": "markdown",
      "metadata": {
        "id": "h1ccLqAxvDzb"
      },
      "source": [
        "# Pytorch basics\n",
        "\n"
      ]
    },
    {
      "cell_type": "code",
      "execution_count": null,
      "metadata": {
        "id": "hia21XsavoNu"
      },
      "outputs": [],
      "source": [
        "import torch"
      ]
    },
    {
      "cell_type": "code",
      "execution_count": null,
      "metadata": {
        "colab": {
          "base_uri": "https://localhost:8080/"
        },
        "id": "cwNnhlZZvXHl",
        "outputId": "76d06beb-69de-4f71-9c2e-05f864e9fff6"
      },
      "outputs": [],
      "source": [
        "torch.manual_seed(42) # for reproducibility always set a random seed\n",
        "\n",
        "# The main objects exploited by Pytorch are tensors\n",
        "# You can define them directly:\n",
        "v_1 = torch.tensor([[1.,2.,3.],[4.,5.,6.]])\n",
        "print(v_1)\n",
        "# from a numpy array (and back):\n",
        "np_in = np.random.randn(2,3)\n",
        "print(np_in)\n",
        "v_2 = torch.from_numpy(np_in)\n",
        "print(v_2) # note that when converted from numpy the dtype is double precision\n",
        "np_out = v_2.numpy()\n",
        "print(np_out)\n",
        "# or with several functions similar to numpy:\n",
        "v = torch.ones((2,3))\n",
        "print(v)\n",
        "v = torch.zeros((2,3))\n",
        "print(v)"
      ]
    },
    {
      "cell_type": "code",
      "execution_count": null,
      "metadata": {
        "colab": {
          "base_uri": "https://localhost:8080/"
        },
        "id": "YCWSK0TW0_DB",
        "outputId": "ae0bdeaf-c045-4d1a-d9cb-740b51aadd35"
      },
      "outputs": [],
      "source": [
        "# Let's explore the attributes of a pytorch tensor\n",
        "# dtype of the tensor (like numpy)\n",
        "print(v.dtype) # note that the default is single precision\n",
        "# size of a tensor\n",
        "print(v.size())\n",
        "print(v.shape) # as in numpy!\n",
        "# device where the tensor is located (cpu or gpu) ... more on this later in the course\n",
        "print(v.device)"
      ]
    },
    {
      "cell_type": "markdown",
      "metadata": {
        "id": "NmJ-6D9DwcHE"
      },
      "source": [
        "Many functionalities seen for numpy also work in Pytorch (with some notable exceptions). Try out some of them:"
      ]
    },
    {
      "cell_type": "markdown",
      "metadata": {
        "id": "6f0mymFywqHs"
      },
      "source": [
        "### Exercise 10: Accessing elements in tensors"
      ]
    },
    {
      "cell_type": "code",
      "execution_count": null,
      "metadata": {
        "colab": {
          "base_uri": "https://localhost:8080/"
        },
        "id": "6P3DUAhAwlhr",
        "outputId": "a1f27d17-4757-4332-b10b-d0c41bd2e731"
      },
      "outputs": [],
      "source": [
        "# define a torch tensor with all integers from 0 to 100 and then access index 42\n",
        "# then access all values from 58 to 64.\n",
        "\n",
        "a = ..."
      ]
    },
    {
      "cell_type": "markdown",
      "metadata": {
        "id": "FGSrB4ocxyII"
      },
      "source": [
        "#### Solution Exercise 10"
      ]
    },
    {
      "cell_type": "code",
      "execution_count": null,
      "metadata": {
        "id": "07Fs2N5RwoEL"
      },
      "outputs": [],
      "source": [
        "a = torch.arange(101)\n",
        "print(a[42])\n",
        "print(a[58:65])"
      ]
    },
    {
      "cell_type": "markdown",
      "metadata": {
        "id": "iCpgovEKx3PX"
      },
      "source": [
        "### Exercise 11: Implement a linear layer"
      ]
    },
    {
      "cell_type": "markdown",
      "metadata": {
        "id": "JAKk5J62yYCr"
      },
      "source": [
        "Implement h = Wx + b as done before with numpy. Search on Google the torch way to do matrix multiplication (note that the dot function differs from numpy, look it up!)"
      ]
    },
    {
      "cell_type": "code",
      "execution_count": null,
      "metadata": {
        "id": "5eN9euuhx2rQ"
      },
      "outputs": [],
      "source": [
        "W = torch.randn(size=(3,4))\n",
        "x = torch.randn(size=(4,1))\n",
        "b = torch.rand(size=(3,1))\n",
        "\n",
        "h = ..."
      ]
    },
    {
      "cell_type": "markdown",
      "metadata": {
        "id": "fzMnsulSyUFN"
      },
      "source": [
        "#### Solution Exercise 11"
      ]
    },
    {
      "cell_type": "code",
      "execution_count": null,
      "metadata": {
        "colab": {
          "base_uri": "https://localhost:8080/"
        },
        "id": "wx4xwUvoyWF-",
        "outputId": "54c1cf54-a93c-4fb0-afcd-9ee51961f30e"
      },
      "outputs": [],
      "source": [
        "torch.manual_seed(42)\n",
        "\n",
        "W = torch.randn(size=(3,4))\n",
        "x = torch.randn(size=(4,1))\n",
        "b = torch.rand(size=(3,1))\n",
        "\n",
        "h = W @ x + b\n",
        "print(h)\n",
        "# another equivalent way to do it\n",
        "h2 = torch.matmul(W,x) + b\n",
        "print(torch.all(h == h2))"
      ]
    },
    {
      "cell_type": "markdown",
      "metadata": {
        "id": "Feq9Bb7G0bIn"
      },
      "source": [
        "### Exercise 12: statistics on tensors"
      ]
    },
    {
      "cell_type": "code",
      "execution_count": null,
      "metadata": {
        "id": "XVYulOyb1jFb"
      },
      "outputs": [],
      "source": [
        "# Compute the mean, the maximum, the standard deviation and the argmax of the torch tensor provided\n",
        "torch.manual_seed(42)\n",
        "\n",
        "a = torch.randn(size=(5,1))\n",
        "a_mean = ...\n",
        "a_max = ...\n",
        "a_std = ...\n",
        "a_argmax = ...\n",
        "\n",
        "print(a)\n",
        "print(a_mean, a_max, a_std, a_argmax, a[a_argmax])"
      ]
    },
    {
      "cell_type": "markdown",
      "metadata": {
        "id": "kDBpNy611jkF"
      },
      "source": [
        "#### Solution Exercise 12"
      ]
    },
    {
      "cell_type": "code",
      "execution_count": null,
      "metadata": {
        "colab": {
          "base_uri": "https://localhost:8080/"
        },
        "id": "5njqBMfN1lv-",
        "outputId": "0a6a42b5-2e4f-4f5d-ef1f-1411c936ae94"
      },
      "outputs": [],
      "source": [
        "torch.manual_seed(42)\n",
        "\n",
        "a = torch.randn(size=(5,1))\n",
        "a_mean = a.mean()\n",
        "a_max = a.max()\n",
        "a_std = a.std()\n",
        "a_argmax = a.argmax()\n",
        "\n",
        "print(a)\n",
        "print(a_mean, a_max, a_std, a_argmax, a[a_argmax])"
      ]
    },
    {
      "cell_type": "markdown",
      "metadata": {
        "id": "UNL145oP0yFJ"
      },
      "source": [
        "### Exercise 13: Manipulate dimensionality in torch"
      ]
    },
    {
      "cell_type": "code",
      "execution_count": null,
      "metadata": {
        "colab": {
          "base_uri": "https://localhost:8080/"
        },
        "id": "yqr00Hx52kYe",
        "outputId": "7e267cd5-35a7-49d2-a204-b085757b99b6"
      },
      "outputs": [],
      "source": [
        "# hstack, vstack work like in numpy, test them on the a tensor of the previous exercise\n",
        "\n",
        "# check pytorch documentation for the functions squeeze and unsqueeze\n",
        "# apply them on the following tensor, what do they do?\n",
        "v = torch.randn((2,3,1,1,3))"
      ]
    },
    {
      "cell_type": "markdown",
      "metadata": {
        "id": "g-7I5R8N2psQ"
      },
      "source": [
        "#### Solution Exercise 13"
      ]
    },
    {
      "cell_type": "code",
      "execution_count": null,
      "metadata": {
        "colab": {
          "base_uri": "https://localhost:8080/"
        },
        "id": "sHgrB4aU2qMu",
        "outputId": "c45aca3d-cd0d-44a8-dfe0-d5ca698e626b"
      },
      "outputs": [],
      "source": [
        "print(\"Original tensor\")\n",
        "print(a)\n",
        "print(\"vstack\")\n",
        "print(torch.vstack([a,a]))\n",
        "print(\"hstack\")\n",
        "print(torch.hstack([a,a]))\n",
        "print(\"squeeze\")\n",
        "print(v.squeeze().shape)\n",
        "print(\"unsqueeze\")\n",
        "print(v.unsqueeze(0).shape)"
      ]
    },
    {
      "cell_type": "markdown",
      "metadata": {
        "id": "vswPW4js0fki"
      },
      "source": [
        "### Exercise 14: non-linear functions in torch (advanced)"
      ]
    },
    {
      "cell_type": "markdown",
      "metadata": {
        "id": "HbWD544de0X3"
      },
      "source": [
        "Pytorch implements several non-linear functions that you can apply directly to tensors. For example the relu function and the sigmoid function.\n",
        "Given the matrices $W_1$, $W_2$, and the vectors $x$, $b_1$, $b_2$\n",
        "Implement the following operations:\n",
        "\n",
        "h = relu($W_1 \\cdot x + b_1$)\n",
        "\n",
        "o = sigmoid($W_2 \\cdot h + b_2$)"
      ]
    },
    {
      "cell_type": "code",
      "execution_count": null,
      "metadata": {
        "id": "bbrFDgbS2mx_"
      },
      "outputs": [],
      "source": [
        "W1 = torch.randn(5, 10)\n",
        "b1 = torch.randn(5, 1)\n",
        "W2 = torch.randn(1, 5)\n",
        "b2 = torch.randn(1, 1)\n",
        "\n",
        "x = torch.randn(10, 1)\n",
        "h = ...\n",
        "o = ..."
      ]
    },
    {
      "cell_type": "markdown",
      "metadata": {
        "id": "vTZjCLck2tiq"
      },
      "source": [
        "#### Solution Exercise 14"
      ]
    },
    {
      "cell_type": "code",
      "execution_count": null,
      "metadata": {
        "colab": {
          "base_uri": "https://localhost:8080/"
        },
        "id": "ffFCyckc2wNe",
        "outputId": "fbb82c27-2f64-4cc9-97c5-7fe24c557423"
      },
      "outputs": [],
      "source": [
        "W1 = torch.randn(5, 10)\n",
        "b1 = torch.randn(5, 1)\n",
        "W2 = torch.randn(1, 5)\n",
        "b2 = torch.randn(1, 1)\n",
        "\n",
        "x = torch.randn(10, 1)\n",
        "h = torch.relu(torch.matmul(W1, x) + b1)\n",
        "o = torch.sigmoid(torch.matmul(W2, h) + b2)\n",
        "\n",
        "o, o.shape"
      ]
    },
    {
      "cell_type": "markdown",
      "metadata": {
        "id": "_UlI7Mz43UEM"
      },
      "source": [
        "# Resources\n",
        "\n",
        "- Python docs: [https://docs.python.org/](https://docs.python.org/)\n",
        "- [Python cheat sheet](https://perso.limsi.fr/pointal/_media/python:cours:mementopython3-english.pdf)\n",
        "- Numpy docs: [https://docs.scipy.org/doc/numpy/](https://docs.scipy.org/doc/numpy/)\n",
        "- [Cheat sheet for several scientific libraries](https://github.com/kailashahirwar/cheatsheets-ai/) (AI-oriented)\n",
        "\n",
        "There are many tutorials on the web on NumPy. Here are only a few of the references that I would suggest that you take a look at, if you have some time.\n",
        "\n",
        "- [What is NumPy?](https://numpy.org/doc/stable/user/whatisnumpy.html)\n",
        "- [NumPy quickstart](https://numpy.org/doc/stable/user/quickstart.html)\n",
        "- [NumPy: the absolute basics for beginners](https://numpy.org/doc/stable/user/absolute_beginners.html)\n",
        "- [NumPy Reference](https://numpy.org/doc/stable/reference/) (the documentation)\n",
        "\n",
        "Of course, you can also use:\n",
        "\n",
        "- [Google](https://www.google.ch/)\n",
        "- [Stack Overflow](https://stackoverflow.com/questions/tagged/numpy)\n",
        "    - [Cross Validated Stack Exchange](https://stats.stackexchange.com/)\n",
        "    - [Artificial Intelligence Stack Exchange](https://ai.stackexchange.com/) (I am a [moderator](https://ai.stackexchange.com/users/2444/nbro) on this site, by the way :)\n",
        "    - [Data Science Stack Exchange](https://datascience.stackexchange.com/)\n"
      ]
    },
    {
      "cell_type": "markdown",
      "metadata": {
        "collapsed": false,
        "id": "f_EJ4FChR9AD"
      },
      "source": [
        "# Related libraries\n",
        "\n",
        "There are other libraries (some of them use NumPy) that you will come across in the context of machine learning, such as\n",
        "\n",
        "- [PyTorch](https://pytorch.org/), [TensorFlow](https://www.tensorflow.org/) and [Keras](https://www.tensorflow.org/api_docs/python/tf/keras/layers) (for neural networks and other ML models)\n",
        "- [scikit-learn](https://scikit-learn.org/stable/) (aka, sklearn, which is a general ML library)\n",
        "- [Matplotlib](https://matplotlib.org/) (for plotting)\n",
        "- [Pandas](https://pandas.pydata.org/) (for data manipulation)\n",
        "- [Seaborn](https://seaborn.pydata.org/) (for plotting)"
      ]
    },
    {
      "cell_type": "markdown",
      "metadata": {
        "collapsed": false,
        "id": "c0UYCZP0R9AD"
      },
      "source": [
        "# [Google Colaboratory](https://research.google.com/colaboratory/faq.html) (aka colab)\n",
        "\n"
      ]
    },
    {
      "cell_type": "markdown",
      "metadata": {
        "id": "Le4VC4EJslZu"
      },
      "source": [
        "Some tricks and tips\n",
        "\n",
        "- [2 types of cells](https://colab.research.google.com/notebooks/basic_features_overview.ipynb):\n",
        "    1. code\n",
        "    2. [text](https://colab.research.google.com/notebooks/markdown_guide.ipynb)\n",
        "\n",
        "- <kbd>Shift</kbd> + <kbd>Enter</kbd> [to execute the content of a cell](https://colab.research.google.com/notebooks/basic_features_overview.ipynb)\n",
        "\n",
        "- <kbd>CTRL</kbd> + hover the symbol: to see the documentation of a method, class, etc.\n",
        "- <kbd>CTRL</kbd> + click on the symbol, then click to to definition to see the definition/code\n",
        "\n",
        "- To train neural networks with GPU and TPUs (which can be a lot faster than training with CPUs), go to `Runtime` menu, then click on `Change runtime type`, then choose e.g. GPU/TPU\n",
        "    - This may be useful later, but not really now\n",
        "\n",
        "- [You have only a limited number of time in Colab, then the session may end (and unexpectedly!)](https://research.google.com/colaboratory/faq.html)\n",
        "\n",
        "- [You can load data from your Google Drive or Github](https://colab.research.google.com/notebooks/io.ipynb)\n",
        "\n",
        "- [You can clone a Github repository into the file system of the VM used in Colab](https://stackoverflow.com/a/58395920/3924118), then you can execute code from that repo from within Colab\n",
        "\n",
        "- Google Colab typically already comes with many Python libraries installed, including NumPy, but sometimes you need to install your needed libraries\n",
        "\n",
        "- Python statements are treated differently than shell/terminal commands\n",
        "    - [What is the meaning of exclamation and question marks in Jupyter notebook?](https://stackoverflow.com/q/53498226/3924118)\n",
        "    - [What is the difference between ! and % in Jupyter notebooks?](https://stackoverflow.com/q/45784499/3924118)\n",
        "\n",
        "- See [this](https://colab.research.google.com/notebooks/) for more info"
      ]
    },
    {
      "cell_type": "markdown",
      "metadata": {
        "collapsed": false,
        "id": "izABCempR9AD"
      },
      "source": [
        "# Where to code?\n",
        "\n",
        "I recommend [Visual Studio Code](https://code.visualstudio.com/). Of course, you can also use Google Colab or Jupyter notebooks, especially when a notebook is required, rather than a Python module (which ends with `.py` rather than `.ipynb`, like this notebook). Otherwise,  the [IDE](https://en.wikipedia.org/wiki/Integrated_development_environment) [PyCharm](https://www.jetbrains.com/pycharm/) (there's a community edition that is free, but, given that you're a student, you can get access to the full IDE by subscribing as a student)."
      ]
    }
  ],
  "metadata": {
    "colab": {
      "collapsed_sections": [
        "hezzs7gfWG3B",
        "GgXU0HLAX-FO",
        "Edf5b095Z-a5",
        "2f_MOorSmr20",
        "JT-fiIRQnN5O",
        "c_mpye81vjzZ",
        "Ja3LdP5XiHY3",
        "FGSrB4ocxyII",
        "vTZjCLck2tiq",
        "c0UYCZP0R9AD"
      ],
      "provenance": [],
      "toc_visible": true
    },
    "kernelspec": {
      "display_name": "Python 3 (ipykernel)",
      "language": "python",
      "name": "python3"
    },
    "language_info": {
      "codemirror_mode": {
        "name": "ipython",
        "version": 3
      },
      "file_extension": ".py",
      "mimetype": "text/x-python",
      "name": "python",
      "nbconvert_exporter": "python",
      "pygments_lexer": "ipython3",
      "version": "3.10.9"
    },
    "pycharm": {
      "stem_cell": {
        "cell_type": "raw",
        "metadata": {
          "collapsed": false
        },
        "source": []
      }
    }
  },
  "nbformat": 4,
  "nbformat_minor": 0
}
